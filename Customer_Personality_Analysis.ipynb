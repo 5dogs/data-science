{
  "nbformat": 4,
  "nbformat_minor": 0,
  "metadata": {
    "colab": {
      "provenance": [],
      "authorship_tag": "ABX9TyOAAIDOGgQO9N9bi2jRcEbI",
      "include_colab_link": true
    },
    "kernelspec": {
      "name": "python3",
      "display_name": "Python 3"
    },
    "language_info": {
      "name": "python"
    }
  },
  "cells": [
    {
      "cell_type": "markdown",
      "metadata": {
        "id": "view-in-github",
        "colab_type": "text"
      },
      "source": [
        "<a href=\"https://colab.research.google.com/github/5dogs/data-science/blob/main/Customer_Personality_Analysis.ipynb\" target=\"_parent\"><img src=\"https://colab.research.google.com/assets/colab-badge.svg\" alt=\"Open In Colab\"/></a>"
      ]
    },
    {
      "cell_type": "code",
      "execution_count": 2,
      "metadata": {
        "id": "JoA3j4qQ44KA"
      },
      "outputs": [],
      "source": [
        "# from google.colab import drive\n",
        "# drive.mount('/content/drive')\n",
        "# 基本操作\n",
        "import pandas as pd\n",
        "import numpy as np\n",
        "from google.colab import drive\n",
        "import os\n",
        "import shutil\n",
        "\n",
        "# 可視化\n",
        "import matplotlib\n",
        "import matplotlib.pyplot as plt\n",
        "import seaborn as sns\n",
        "\n",
        "# ロジスティック回帰\n",
        "from sklearn.model_selection import train_test_split\n",
        "from sklearn.linear_model import LogisticRegression\n",
        "from sklearn.preprocessing import StandardScaler\n",
        "\n",
        "# その他\n",
        "import re\n",
        "import datetime\n",
        "import warnings\n",
        "import random\n",
        "\n",
        "# %matplotlib inline"
      ]
    },
    {
      "cell_type": "code",
      "source": [
        "# ファイルパス\n",
        "# dir_path = \"/content/drive/MyDrive/ColabNotebooks/Customer Personality Analysis/\"\n",
        "dir_path = \"/content/\"\n",
        "file_name = \"m_c_shorten.csv\"\n",
        "\n",
        "# データの読み込み\n",
        "df = pd.read_csv(\n",
        "    dir_path + file_name,\n",
        "    sep='\\t',                   # タブ区切りの指定\n",
        "    parse_dates=['Dt_Customer'], # 'Dt_Customer'を日付型として読み込む\n",
        "    index_col='ID',             # 'ID'をインデックスとして設定\n",
        "    encoding='utf-8'            # エンコーディングの指定（必要に応じて調整）\n",
        ")\n",
        "\n",
        "# データの先頭5行を表示\n",
        "print(df.head(1))"
      ],
      "metadata": {
        "colab": {
          "base_uri": "https://localhost:8080/"
        },
        "id": "RwWOWzz9MyLZ",
        "outputId": "06c9020f-f4c5-42ce-b0e2-20387d559d2e",
        "collapsed": true
      },
      "execution_count": 3,
      "outputs": [
        {
          "output_type": "stream",
          "name": "stdout",
          "text": [
            "      Year_Birth   Education Marital_Status   Income  Kidhome  Teenhome  \\\n",
            "ID                                                                        \n",
            "5524        1957  Graduation         Single  58138.0        0         0   \n",
            "\n",
            "     Dt_Customer  Recency  MntWines  MntFruits  ...  NumWebVisitsMonth  \\\n",
            "ID                                              ...                      \n",
            "5524  04-09-2012       58       635         88  ...                  7   \n",
            "\n",
            "      AcceptedCmp3  AcceptedCmp4  AcceptedCmp5  AcceptedCmp1  AcceptedCmp2  \\\n",
            "ID                                                                           \n",
            "5524             0             0             0             0             0   \n",
            "\n",
            "      Complain  Z_CostContact  Z_Revenue  Response  \n",
            "ID                                                  \n",
            "5524         0              3         11         1  \n",
            "\n",
            "[1 rows x 28 columns]\n"
          ]
        }
      ]
    },
    {
      "cell_type": "code",
      "source": [
        "# データ型の確認\n",
        "dtype_sr = df.dtypes\n",
        "print(dtype_sr)\n",
        "\n",
        "# 欠損値の数\n",
        "nullcnt_sr = df.isnull().sum()\n",
        "print(nullcnt_sr)\n"
      ],
      "metadata": {
        "colab": {
          "base_uri": "https://localhost:8080/"
        },
        "id": "fn4AZEr630eo",
        "outputId": "f4808a85-2bb8-422d-f3d4-71835a00d002"
      },
      "execution_count": null,
      "outputs": [
        {
          "output_type": "stream",
          "name": "stdout",
          "text": [
            "Year_Birth                int64\n",
            "Education                object\n",
            "Marital_Status           object\n",
            "Income                  float64\n",
            "Kidhome                   int64\n",
            "Teenhome                  int64\n",
            "Dt_Customer              object\n",
            "Recency                   int64\n",
            "MntWines                  int64\n",
            "MntFruits                 int64\n",
            "MntMeatProducts           int64\n",
            "MntFishProducts           int64\n",
            "MntSweetProducts          int64\n",
            "MntGoldProds              int64\n",
            "NumDealsPurchases         int64\n",
            "NumWebPurchases           int64\n",
            "NumCatalogPurchases       int64\n",
            "NumStorePurchases         int64\n",
            "NumWebVisitsMonth         int64\n",
            "AcceptedCmp3              int64\n",
            "AcceptedCmp4              int64\n",
            "AcceptedCmp5              int64\n",
            "AcceptedCmp1              int64\n",
            "AcceptedCmp2              int64\n",
            "Complain                  int64\n",
            "Z_CostContact             int64\n",
            "Z_Revenue                 int64\n",
            "Response                  int64\n",
            "Age                       int64\n",
            "Age_Group              category\n",
            "dtype: object\n",
            "Year_Birth             0\n",
            "Education              0\n",
            "Marital_Status         0\n",
            "Income                 9\n",
            "Kidhome                0\n",
            "Teenhome               0\n",
            "Dt_Customer            0\n",
            "Recency                0\n",
            "MntWines               0\n",
            "MntFruits              0\n",
            "MntMeatProducts        0\n",
            "MntFishProducts        0\n",
            "MntSweetProducts       0\n",
            "MntGoldProds           0\n",
            "NumDealsPurchases      0\n",
            "NumWebPurchases        0\n",
            "NumCatalogPurchases    0\n",
            "NumStorePurchases      0\n",
            "NumWebVisitsMonth      0\n",
            "AcceptedCmp3           0\n",
            "AcceptedCmp4           0\n",
            "AcceptedCmp5           0\n",
            "AcceptedCmp1           0\n",
            "AcceptedCmp2           0\n",
            "Complain               0\n",
            "Z_CostContact          0\n",
            "Z_Revenue              0\n",
            "Response               0\n",
            "Age                    0\n",
            "Age_Group              0\n",
            "dtype: int64\n"
          ]
        }
      ]
    },
    {
      "cell_type": "markdown",
      "source": [
        "素のやつ  \n",
        "データ全選択→png保存→pdf出力"
      ],
      "metadata": {
        "id": "USnhPUkR4Wjf"
      }
    },
    {
      "cell_type": "code",
      "source": [
        "# prompt: 各インデックスをすべて可視化したものをすべてまとめて一つのファイルにし、ダウンロードしたい\n",
        "\n",
        "import matplotlib.pyplot as plt\n",
        "# 各列のヒストグラムをプロット\n",
        "for col in df.columns:\n",
        "  if df[col].dtype in ['int64', 'float64']:  # 数値データのみヒストグラムを作成\n",
        "    plt.figure()\n",
        "    df[col].hist()\n",
        "    plt.xlabel(col)\n",
        "    plt.ylabel('Frequency')\n",
        "    plt.title(f'Histogram of {col}')\n",
        "    plt.savefig(f'{col}_histogram.png')  # ヒストグラムを画像ファイルとして保存\n",
        "    plt.close()\n",
        "\n",
        "# 各列の箱ひげ図をプロット\n",
        "for col in df.columns:\n",
        "  if df[col].dtype in ['int64', 'float64']:  # 数値データのみ箱ひげ図を作成\n",
        "    plt.figure()\n",
        "    df.boxplot(column=col)\n",
        "    plt.title(f'Boxplot of {col}')\n",
        "    plt.savefig(f'{col}_boxplot.png')  # 箱ひげ図を画像ファイルとして保存\n",
        "    plt.close()\n",
        "\n",
        "# 各列の散布図をプロット（数値データ同士の組み合わせ）\n",
        "numeric_cols = df.select_dtypes(include=['number']).columns\n",
        "for i in range(len(numeric_cols)):\n",
        "  for j in range(i + 1, len(numeric_cols)):\n",
        "    col1 = numeric_cols[i]\n",
        "    col2 = numeric_cols[j]\n",
        "    plt.figure()\n",
        "    plt.scatter(df[col1], df[col2])\n",
        "    plt.xlabel(col1)\n",
        "    plt.ylabel(col2)\n",
        "    plt.title(f'Scatter plot of {col1} vs {col2}')\n",
        "    plt.savefig(f'{col1}_vs_{col2}_scatter.png')  # 散布図を画像ファイルとして保存\n",
        "    plt.close()\n",
        "\n",
        "# 各列のヒストグラムと箱ひげ図を一つのPDFファイルにまとめる\n",
        "from matplotlib.backends.backend_pdf import PdfPages\n",
        "\n",
        "with PdfPages('all_plots.pdf') as pdf:\n",
        "  for col in df.columns:\n",
        "    if df[col].dtype in ['int64', 'float64']:\n",
        "      # ヒストグラム\n",
        "      plt.figure()\n",
        "      df[col].hist()\n",
        "      plt.xlabel(col)\n",
        "      plt.ylabel('Frequency')\n",
        "      plt.title(f'Histogram of {col}')\n",
        "      pdf.savefig()  # PDFに保存\n",
        "      plt.close()\n",
        "\n",
        "      # 箱ひげ図\n",
        "      plt.figure()\n",
        "      df.boxplot(column=col)\n",
        "      plt.title(f'Boxplot of {col}')\n",
        "      pdf.savefig()  # PDFに保存\n",
        "      plt.close()\n",
        "\n",
        "  # 散布図\n",
        "  for i in range(len(numeric_cols)):\n",
        "    for j in range(i + 1, len(numeric_cols)):\n",
        "      col1 = numeric_cols[i]\n",
        "      col2 = numeric_cols[j]\n",
        "      plt.figure()\n",
        "      plt.scatter(df[col1], df[col2])\n",
        "      plt.xlabel(col1)\n",
        "      plt.ylabel(col2)\n",
        "      plt.title(f'Scatter plot of {col1} vs {col2}')\n",
        "      pdf.savefig()  # PDFに保存\n",
        "      plt.close()\n",
        "\n",
        "# ファイルをダウンロード\n",
        "from google.colab import files\n",
        "files.download('all_plots.pdf')\n"
      ],
      "metadata": {
        "colab": {
          "base_uri": "https://localhost:8080/",
          "height": 17
        },
        "id": "kjWUb3cs-KBN",
        "outputId": "bdd859df-e42d-40f8-fda8-dd55b430f468"
      },
      "execution_count": null,
      "outputs": [
        {
          "output_type": "display_data",
          "data": {
            "text/plain": [
              "<IPython.core.display.Javascript object>"
            ],
            "application/javascript": [
              "\n",
              "    async function download(id, filename, size) {\n",
              "      if (!google.colab.kernel.accessAllowed) {\n",
              "        return;\n",
              "      }\n",
              "      const div = document.createElement('div');\n",
              "      const label = document.createElement('label');\n",
              "      label.textContent = `Downloading \"${filename}\": `;\n",
              "      div.appendChild(label);\n",
              "      const progress = document.createElement('progress');\n",
              "      progress.max = size;\n",
              "      div.appendChild(progress);\n",
              "      document.body.appendChild(div);\n",
              "\n",
              "      const buffers = [];\n",
              "      let downloaded = 0;\n",
              "\n",
              "      const channel = await google.colab.kernel.comms.open(id);\n",
              "      // Send a message to notify the kernel that we're ready.\n",
              "      channel.send({})\n",
              "\n",
              "      for await (const message of channel.messages) {\n",
              "        // Send a message to notify the kernel that we're ready.\n",
              "        channel.send({})\n",
              "        if (message.buffers) {\n",
              "          for (const buffer of message.buffers) {\n",
              "            buffers.push(buffer);\n",
              "            downloaded += buffer.byteLength;\n",
              "            progress.value = downloaded;\n",
              "          }\n",
              "        }\n",
              "      }\n",
              "      const blob = new Blob(buffers, {type: 'application/binary'});\n",
              "      const a = document.createElement('a');\n",
              "      a.href = window.URL.createObjectURL(blob);\n",
              "      a.download = filename;\n",
              "      div.appendChild(a);\n",
              "      a.click();\n",
              "      div.remove();\n",
              "    }\n",
              "  "
            ]
          },
          "metadata": {}
        },
        {
          "output_type": "display_data",
          "data": {
            "text/plain": [
              "<IPython.core.display.Javascript object>"
            ],
            "application/javascript": [
              "download(\"download_c37c1f6a-983b-4b45-999f-73241d188bb6\", \"all_plots.pdf\", 735737)"
            ]
          },
          "metadata": {}
        }
      ]
    },
    {
      "cell_type": "markdown",
      "source": [
        "# カラム名指定で"
      ],
      "metadata": {
        "id": "v3aAiwvS4OfS"
      }
    },
    {
      "cell_type": "code",
      "source": [
        "import matplotlib.pyplot as plt\n",
        "\n",
        "# ID列を指定\n",
        "id_columns = ['ID1', 'ID2']  # ここに対象のID列名をリストとして指定\n",
        "\n",
        "for col in id_columns:\n",
        "    if col in df.columns and df[col].dtype in ['int64', 'float64']:  # 数値データかつ指定したID列であるか確認\n",
        "        plt.figure()\n",
        "        df[col].hist()\n",
        "        plt.xlabel(col)\n",
        "        plt.ylabel('Frequency')\n",
        "        plt.title(f'Histogram of {col}')\n",
        "        plt.savefig(f'{col}_histogram.png')  # ヒストグラムを画像ファイルとして保存\n",
        "        plt.close()\n",
        "\n",
        "# ファイルをダウンロード\n",
        "from google.colab import files\n",
        "files.download('all_plots.pdf')"
      ],
      "metadata": {
        "id": "FY-EIzjnxiYz"
      },
      "execution_count": null,
      "outputs": []
    },
    {
      "cell_type": "markdown",
      "source": [
        "# 欠損値の数"
      ],
      "metadata": {
        "id": "qtwPwrHI4G9F"
      }
    },
    {
      "cell_type": "code",
      "source": [
        "nullcnt_sr = df.isnull().sum()\n",
        "print(nullcnt_sr)\n"
      ],
      "metadata": {
        "colab": {
          "base_uri": "https://localhost:8080/"
        },
        "id": "BU8Q1RZNbk8l",
        "outputId": "872d43e9-9a95-42f8-fcf5-d3194c144eda",
        "collapsed": true
      },
      "execution_count": null,
      "outputs": [
        {
          "output_type": "stream",
          "name": "stdout",
          "text": [
            "Year_Birth             0\n",
            "Education              0\n",
            "Marital_Status         0\n",
            "Income                 0\n",
            "Kidhome                0\n",
            "Teenhome               0\n",
            "Dt_Customer            0\n",
            "Recency                0\n",
            "MntWines               0\n",
            "MntFruits              0\n",
            "MntMeatProducts        0\n",
            "MntFishProducts        0\n",
            "MntSweetProducts       0\n",
            "MntGoldProds           0\n",
            "NumDealsPurchases      0\n",
            "NumWebPurchases        0\n",
            "NumCatalogPurchases    0\n",
            "NumStorePurchases      0\n",
            "NumWebVisitsMonth      0\n",
            "AcceptedCmp3           0\n",
            "AcceptedCmp4           0\n",
            "AcceptedCmp5           0\n",
            "AcceptedCmp1           0\n",
            "AcceptedCmp2           0\n",
            "Complain               0\n",
            "Z_CostContact          0\n",
            "Z_Revenue              0\n",
            "Response               0\n",
            "Age                    0\n",
            "Age_Group              0\n",
            "dtype: int64\n"
          ]
        }
      ]
    },
    {
      "cell_type": "markdown",
      "source": [
        "以下colab環境限定osのやつ  \n",
        "FPDF*installもある*"
      ],
      "metadata": {
        "id": "XuRvCuE_2YBA"
      }
    },
    {
      "cell_type": "code",
      "source": [
        "import matplotlib.pyplot as plt\n",
        "import os\n",
        "\n",
        "# fpdfのインストール（必要な場合）\n",
        "try:\n",
        "    from fpdf import FPDF\n",
        "except ModuleNotFoundError:\n",
        "    !pip install fpdf\n",
        "    from fpdf import FPDF\n",
        "\n",
        "# 保存するフォルダの名前\n",
        "output_folder = 'graphs'\n",
        "os.makedirs(output_folder, exist_ok=True)\n",
        "\n",
        "# ID列を指定\n",
        "id_columns = ['AcceptedCmp1', 'AcceptedCmp2']\n",
        "\n",
        "for col in id_columns:\n",
        "    if col in df.columns:\n",
        "        # 円グラフを作成\n",
        "        value_counts = df[col].value_counts()\n",
        "        plt.figure()\n",
        "        plt.pie(value_counts, labels=value_counts.index, autopct='%1.1f%%', startangle=90)\n",
        "        plt.axis('equal')\n",
        "        plt.title(f'Pie chart of {col}')\n",
        "        plt.savefig(os.path.join(output_folder, f'{col}_pie_chart.png'))\n",
        "        plt.close()\n",
        "\n",
        "# PNGファイルをPDFにまとめる\n",
        "pdf = FPDF()\n",
        "for file_name in os.listdir(output_folder):\n",
        "    if file_name.endswith('.png'):\n",
        "        pdf.add_page()\n",
        "        pdf.image(os.path.join(output_folder, file_name), x=10, y=10, w=180)  # 画像をPDFに追加\n",
        "\n",
        "pdf_output_path = os.path.join(output_folder, 'combined_plots.pdf')\n",
        "pdf.output(pdf_output_path)\n",
        "\n",
        "# PDFをダウンロード\n",
        "from google.colab import files\n",
        "files.download(pdf_output_path)\n"
      ],
      "metadata": {
        "colab": {
          "base_uri": "https://localhost:8080/",
          "height": 17
        },
        "id": "N-M_KLTU2Xlk",
        "outputId": "979d7e2a-d661-44d6-a57a-a0cb5c4d61ac"
      },
      "execution_count": 9,
      "outputs": [
        {
          "output_type": "display_data",
          "data": {
            "text/plain": [
              "<IPython.core.display.Javascript object>"
            ],
            "application/javascript": [
              "\n",
              "    async function download(id, filename, size) {\n",
              "      if (!google.colab.kernel.accessAllowed) {\n",
              "        return;\n",
              "      }\n",
              "      const div = document.createElement('div');\n",
              "      const label = document.createElement('label');\n",
              "      label.textContent = `Downloading \"${filename}\": `;\n",
              "      div.appendChild(label);\n",
              "      const progress = document.createElement('progress');\n",
              "      progress.max = size;\n",
              "      div.appendChild(progress);\n",
              "      document.body.appendChild(div);\n",
              "\n",
              "      const buffers = [];\n",
              "      let downloaded = 0;\n",
              "\n",
              "      const channel = await google.colab.kernel.comms.open(id);\n",
              "      // Send a message to notify the kernel that we're ready.\n",
              "      channel.send({})\n",
              "\n",
              "      for await (const message of channel.messages) {\n",
              "        // Send a message to notify the kernel that we're ready.\n",
              "        channel.send({})\n",
              "        if (message.buffers) {\n",
              "          for (const buffer of message.buffers) {\n",
              "            buffers.push(buffer);\n",
              "            downloaded += buffer.byteLength;\n",
              "            progress.value = downloaded;\n",
              "          }\n",
              "        }\n",
              "      }\n",
              "      const blob = new Blob(buffers, {type: 'application/binary'});\n",
              "      const a = document.createElement('a');\n",
              "      a.href = window.URL.createObjectURL(blob);\n",
              "      a.download = filename;\n",
              "      div.appendChild(a);\n",
              "      a.click();\n",
              "      div.remove();\n",
              "    }\n",
              "  "
            ]
          },
          "metadata": {}
        },
        {
          "output_type": "display_data",
          "data": {
            "text/plain": [
              "<IPython.core.display.Javascript object>"
            ],
            "application/javascript": [
              "download(\"download_f1eccc6a-8f68-4c84-a149-ac8ad0e8b155\", \"combined_plots.pdf\", 33872)"
            ]
          },
          "metadata": {}
        }
      ]
    }
  ]
}